{
 "cells": [
  {
   "cell_type": "code",
   "execution_count": 6,
   "metadata": {
    "ExecuteTime": {
     "end_time": "2019-07-15T07:20:11.285471Z",
     "start_time": "2019-07-15T07:20:11.269909Z"
    }
   },
   "outputs": [],
   "source": [
    "from tqdm import tqdm_notebook as tqdm\n",
    "import json\n",
    "import pickle\n",
    "from pathlib import Path\n",
    "import itertools"
   ]
  },
  {
   "cell_type": "code",
   "execution_count": null,
   "metadata": {},
   "outputs": [],
   "source": []
  },
  {
   "cell_type": "code",
   "execution_count": 7,
   "metadata": {
    "ExecuteTime": {
     "end_time": "2019-07-15T07:20:11.687760Z",
     "start_time": "2019-07-15T07:20:11.680310Z"
    }
   },
   "outputs": [],
   "source": [
    "def get_id_for_comments(thing):\n",
    "    if thing[\"type\"] == \"submission\":\n",
    "        return \"t3_\" + thing[\"id\"]\n",
    "    else:\n",
    "        return \"t1_\" + thing[\"id\"]\n",
    "\n",
    "    \n"
   ]
  },
  {
   "cell_type": "code",
   "execution_count": 8,
   "metadata": {
    "ExecuteTime": {
     "end_time": "2019-07-15T07:20:11.846965Z",
     "start_time": "2019-07-15T07:20:11.839085Z"
    }
   },
   "outputs": [],
   "source": [
    "def format_reddit_thing(thing, submission_id):\n",
    "    \"\"\"Format a dict of comment or submisson data.\"\"\"\n",
    "\n",
    "    if thing[\"type\"] == \"submission\":\n",
    "        text = \"\\n\".join([thing[\"title\"], thing.get(\"selftext\", \"\")])\n",
    "    else:\n",
    "        text = thing[\"body\"]\n",
    "    text = html.unescape(text)\n",
    "    return text"
   ]
  },
  {
   "cell_type": "code",
   "execution_count": null,
   "metadata": {},
   "outputs": [],
   "source": []
  },
  {
   "cell_type": "code",
   "execution_count": 71,
   "metadata": {
    "ExecuteTime": {
     "end_time": "2019-07-15T07:29:36.164646Z",
     "start_time": "2019-07-15T07:29:36.157096Z"
    },
    "scrolled": true
   },
   "outputs": [],
   "source": [
    "def format_submission(thing):\n",
    "    return f\"\"\"****S\n",
    "{thing.get('url','')}\n",
    "{thing['title']}\n",
    "{thing.get('selftext', '')}\n",
    "****ES {normalize_id(thing['id'])}\n",
    "\n",
    "\"\"\"\n",
    "\n",
    "\n",
    "def format_top_level_comment(thing):\n",
    "    return f\"\"\"****T {normalize_id(thing['parent_id'])}\n",
    "{thing['body']}\n",
    "****ET {thing['id']}\n",
    "\n",
    "\"\"\"\n",
    "\n",
    "\n",
    "def format_reply(thing):\n",
    "    return f\"\"\"****R {normalize_id(thing['parent_id'])}\n",
    "{thing['body']}\n",
    "****ER {thing['id']}\n",
    "\n",
    "\"\"\""
   ]
  },
  {
   "cell_type": "code",
   "execution_count": 134,
   "metadata": {
    "ExecuteTime": {
     "end_time": "2019-07-15T07:38:51.146275Z",
     "start_time": "2019-07-15T07:38:51.126218Z"
    }
   },
   "outputs": [],
   "source": [
    "import collections\n",
    "def normalize_id(iid):\n",
    "    return iid.split('_')[-1]\n",
    "\n",
    "def format_thing(thing, submission_id):\n",
    "    submission_id = submission_id.split('_')[-1]\n",
    "    if thing['id']==normalize_id(submission_id):\n",
    "        return format_submission(thing)\n",
    "    elif normalize_id(thing['parent_id'])==normalize_id(submission_id):\n",
    "        return format_top_level_comment(thing)\n",
    "    else:\n",
    "        return format_reply(thing)\n",
    "    \n",
    "def comments_to_queue(comment_dict, submission):\n",
    "    queue = [submission]\n",
    "    num_inputs = len(list(itertools.chain(*comment_dict.values())))\n",
    "    while len(list(itertools.chain(*comment_dict.values()))) > 0:\n",
    "        for queue_position in range(len(queue) - 1, -1, -1):\n",
    "#             print('queue_position', queue_position)\n",
    "            current_id = get_id_for_comments(queue[queue_position])\n",
    "            found = comment_dict[current_id]\n",
    "            if len(found):\n",
    "                break\n",
    "        next_comment = comment_dict[current_id].pop()\n",
    "        queue.append(next_comment)\n",
    "    assert len(queue)==num_inputs+1\n",
    "    \n",
    "#     # Should be no dups\n",
    "#     ids = [x['id'] for x in queue]\n",
    "#     count = collections.Counter(ids)\n",
    "#     assert len(ids)==len(set(ids)), f'should be unique but {count.most_common()}'\n",
    "    return queue"
   ]
  },
  {
   "cell_type": "code",
   "execution_count": 135,
   "metadata": {
    "ExecuteTime": {
     "end_time": "2019-07-15T07:38:51.419803Z",
     "start_time": "2019-07-15T07:38:51.415122Z"
    }
   },
   "outputs": [],
   "source": [
    "# data = pickle.load(pkl_file.open('rb'))    \n",
    "# comment_dict = data['comment_dict']\n",
    "# submission = data['submission']\n",
    "# ids = [x['id'] for x in itertools.chain(*comment_dict.values())]\n",
    "# count = collections.Counter(ids)\n",
    "# count"
   ]
  },
  {
   "cell_type": "code",
   "execution_count": 136,
   "metadata": {
    "ExecuteTime": {
     "end_time": "2019-07-15T07:38:51.624621Z",
     "start_time": "2019-07-15T07:38:51.614925Z"
    }
   },
   "outputs": [
    {
     "name": "stdout",
     "output_type": "stream",
     "text": [
      "****S\n",
      "https://www.reddit.com/r/shittyaskscience/comments/835qul/i_sent_a_nigerian_prince_100_cause_he_said_hell/\n",
      "I sent a Nigerian Prince $100 cause he said he'll then send $100,000 back. What are the finance behind it and when should I expect my money back?\n",
      "[removed]\n",
      "****ES 835qul\n",
      "\n",
      "****T 835qul\n",
      "Simple: exchange rates. you send him $100USD, which comes out to 36231NGN. This in turn is worth 10742JPY, which will be turned into $129.58CND. See where this is going? Already we have $30 more than we started with! \n",
      "\n",
      "This goes on and on, through all sorts of currencies -- many of which we rarely even hear of! Eventually, though, you will receive that 1000x return.\n",
      "****ET dvfbynh\n",
      "\n",
      "****R dvfbynh\n",
      "I actually googled it and you'd end up with roughly 70 cents more if at the end you converted to USD instead of CAD\n",
      "****ER dvfiq41\n",
      "\n",
      "****R dvfiq41\n",
      "But what if you do that a million times?\n",
      "****ER dvfyojk\n",
      "\n",
      "****R dvfbynh\n",
      "In economics this is a term called arbitrary\n",
      "****ER dvfgx61\n",
      "\n",
      "****R dvfbynh\n",
      "So does that mean a $100 cow here can be converted into 3000 Nicaraguan cows?\n",
      "****ER dvffyve\n",
      "\n",
      "****R dvffyve\n",
      "No, silly! We are talking real economics here, things of value: cash, child brides, child labor, guns and nuclear materials. Simple, basic items of value. Cows. What were you thinking, guy? Also, your math doesn't work out: should be 2900 Nicaraguan cows.\n",
      "****ER dvfn8xj\n",
      "\n",
      "****R dvfn8xj\n",
      "Here in new zealand, sheep are our cows. And our kid labor. \n",
      "\n",
      "...and our child brides. \n",
      "****ER dvfrltg\n",
      "\n",
      "****R dvfrltg\n",
      "So if I sell you one sheep, will you pay me with one cow, one child slave, *and* a child bride?!\n",
      "****ER dvfw51s\n",
      "\n",
      "****R dvfw51s\n",
      "No no no, if you want child bride, child slave and dairy, just keep sheep. Trust me, good for all three. \n",
      "****ER dvg5ei5\n",
      "\n",
      "****R dvfrltg\n",
      "I didn’t know the sheep let humans use reddit.\n",
      "****ER dvfsm0g\n",
      "\n",
      "****T 835qul\n",
      "r/pfjerk\n",
      "****ET dvg1hmx\n",
      "\n",
      "****T 835qul\n",
      "Ask /r/wallstreetbets. This kind of brilliance is their specialty.\n",
      "****ET dvfxf8e\n",
      "\n",
      "****T 835qul\n",
      "its important to remember that the more money you give Nigerian princes, the more money they send you back. if you give him 300 he'll give you 300,00 back, 1,000 will get you 1,000,000 back, etc.\n",
      "****ET dvfwwlc\n",
      "\n",
      "****T 835qul\n",
      "The yea 2017\n",
      "****ET dvfwca6\n",
      "\n",
      "****T 835qul\n",
      "You can only collect if you \"know de wey\"\n",
      "****ET dvfw5kp\n",
      "\n",
      "****T 835qul\n",
      "I think it’s a scam.\n",
      "****ET dvfut5f\n",
      "\n",
      "****T 835qul\n",
      "Expect it 8 years ago when this meme died out. \n",
      "****ET dvfugsc\n",
      "\n",
      "****T 835qul\n",
      "I'm afraid you've been scammed. Don't feel too bad it happened to me too. I sent them $100 and only got $90,000 back, he kept the other $10,000.\n",
      "****ET dvfu6ug\n",
      "\n",
      "****T 835qul\n",
      "If you just ask lyoness and the dragons to invest in you, like with a 40-60% cash back reward card for using credit cards money scheme, and just ask for $10,000 initially, they'll make hand over fist money by networking and getting commission from other people to invest and sell those products. You keep doing that and it grows as a Multi-level marketing. Its totally legit I promise, very very very safe and legal. \n",
      "****ET dvftvgz\n",
      "\n",
      "****T 835qul\n",
      "You will just wait for the Nigerian Money Crops to be harvested.\n",
      "****ET dvfsh12\n",
      "\n",
      "****T 835qul\n",
      "I think this was meant for r/shittyaskfinance\n",
      "****ET dvfs4tw\n",
      "\n",
      "****R dvfs4tw\n",
      "r/pfjerk is the legit version lol\n",
      "****ER dvg1jd3\n",
      "\n",
      "****R dvfs4tw\n",
      "I came here to say this.\n",
      "\n",
      "*This*\n",
      "\n",
      "That is all.\n",
      "****ER dvfuzpv\n",
      "\n",
      "****T 835qul\n",
      "Reported for doubling gp\n",
      "****ET dvfrlfr\n",
      "\n",
      "****T 835qul\n",
      "The problem is I need you to pay the taxes before he can send you the money.  Inbox me for details.\n",
      "****ET dvfr8qb\n",
      "\n",
      "****T 835qul\n",
      "Wow you got ripped off, I didn't even have to send them any money.  Just my SSN and bank info.\n",
      "****ET dvfq14p\n",
      "\n",
      "****T 835qul\n",
      "I sent him 100$ dollars as well.\n",
      "If we are 1000 to do that, maybe one of us will get 100,000$ back. \n",
      "****ET dvfp2mr\n",
      "\n",
      "****T 835qul\n",
      "I'm actually said Nigerian prince and all this scepticism is disheartening, when op is driving around town in his Lexus on 22s with the top down and a supermodel by his side y'all will be eating your words!! You all can send me 100 USD too and I'll convert it into all these things for you.. There are enough Lexus and supermodels to go round.\n",
      "****ET dvfp06y\n",
      "\n",
      "****R dvfp06y\n",
      "He didn't mention the models are featured only in 'goats monthly'\n",
      "****ER dvg1mbh\n",
      "\n",
      "****T 835qul\n",
      "In Nigeria 100 $1 bills are worth 100,000 single Nigerian bills. So you just bring those bills back over and convert them back to $1 and now you have 100,000 of them. Super simple trick tbh. \n",
      "****ET dvfoya5\n",
      "\n",
      "****T 835qul\n",
      "Bitcoin arbitrage and pump and dump inertia.\n",
      "****ET dvfmoa0\n",
      "\n",
      "****T 835qul\n",
      "In about 7 or 8\n",
      "****ET dvflm80\n",
      "\n",
      "****T 835qul\n",
      "What you should *really* do is- ask for a mailing address and send dic pics. Nigerian Princes **love** those. Even if they aren't yours, just.. Whatever address he gives you mail pictures of men's penises. \n",
      "\n",
      "He'll be so satisfied he'll stop mailing you. 1000% of the time it works 25% of the time. \n",
      "****ET dvfkkgv\n",
      "\n",
      "****T 835qul\n",
      "A Nigerian dollar is only worth 0.0001 USD.\n",
      "****ET dvfkh8b\n",
      "\n",
      "****T 835qul\n",
      "Yes\n",
      "****ET dvfi7cp\n",
      "\n",
      "****R dvfi7cp\n",
      "The people have spoken!\n",
      "****ER dvfp3u4\n",
      "\n",
      "****T 835qul\n",
      "There's really no complicated finances behind it.\n",
      "\n",
      "The ATM fees in Nigeria are absolute murder. \n",
      "****ET dvfftad\n",
      "\n",
      "****T 835qul\n",
      "Simple: exchange rates. you send him $100USD, which comes out to 36231NGN. This in turn is worth 10742JPY, which will be turned into $129.58CND. See where this is going? Already we have $30 more than we started with! \n",
      "\n",
      "This goes on and on, through all sorts of currencies -- many of which we rarely even hear of! Eventually, though, you will receive that 1000x return.\n",
      "****ET dvfbynh\n",
      "\n",
      "\n"
     ]
    }
   ],
   "source": [
    "data = pickle.load(pkl_file.open('rb'))    \n",
    "comment_dict = data['comment_dict']\n",
    "submission = data['submission']\n",
    "queue = comments_to_queue(comment_dict, submission)\n",
    "\n",
    "submission_id = queue[0]['id']\n",
    "text = ''\n",
    "for thing in queue:\n",
    "    text += format_thing(thing, submission_id)\n",
    "print(text)"
   ]
  },
  {
   "cell_type": "code",
   "execution_count": null,
   "metadata": {
    "ExecuteTime": {
     "end_time": "2019-07-15T07:35:37.767286Z",
     "start_time": "2019-07-15T07:35:37.753856Z"
    }
   },
   "outputs": [],
   "source": []
  },
  {
   "cell_type": "code",
   "execution_count": 137,
   "metadata": {
    "ExecuteTime": {
     "end_time": "2019-07-15T07:47:08.195229Z",
     "start_time": "2019-07-15T07:38:53.537895Z"
    },
    "scrolled": true
   },
   "outputs": [
    {
     "data": {
      "application/vnd.jupyter.widget-view+json": {
       "model_id": "14e251f3a8c94662abfd8416a656ba4e",
       "version_major": 2,
       "version_minor": 0
      },
      "text/plain": [
       "HBox(children=(IntProgress(value=0, max=918), HTML(value='')))"
      ]
     },
     "metadata": {},
     "output_type": "display_data"
    },
    {
     "name": "stdout",
     "output_type": "stream",
     "text": [
      "data/reddit_threads/shittyaskscience_train.txt\n"
     ]
    },
    {
     "data": {
      "application/vnd.jupyter.widget-view+json": {
       "model_id": "ce37c047fc65465081960adee9f54e58",
       "version_major": 2,
       "version_minor": 0
      },
      "text/plain": [
       "HBox(children=(IntProgress(value=0, max=102), HTML(value='')))"
      ]
     },
     "metadata": {},
     "output_type": "display_data"
    },
    {
     "name": "stdout",
     "output_type": "stream",
     "text": [
      "data/reddit_threads/shittyaskscience_valid.txt\n"
     ]
    },
    {
     "data": {
      "application/vnd.jupyter.widget-view+json": {
       "model_id": "eeb65e0145c54e33968316be7b9edea3",
       "version_major": 2,
       "version_minor": 0
      },
      "text/plain": [
       "HBox(children=(IntProgress(value=0, max=114), HTML(value='')))"
      ]
     },
     "metadata": {},
     "output_type": "display_data"
    },
    {
     "name": "stdout",
     "output_type": "stream",
     "text": [
      "data/reddit_threads/shittyaskscience_test.txt\n"
     ]
    },
    {
     "data": {
      "application/vnd.jupyter.widget-view+json": {
       "model_id": "2f9a1332ad6747a59dd44725cc1b9327",
       "version_major": 2,
       "version_minor": 0
      },
      "text/plain": [
       "HBox(children=(IntProgress(value=0, max=956), HTML(value='')))"
      ]
     },
     "metadata": {},
     "output_type": "display_data"
    },
    {
     "name": "stdout",
     "output_type": "stream",
     "text": [
      "data/reddit_threads/Scotland_train.txt\n"
     ]
    },
    {
     "data": {
      "application/vnd.jupyter.widget-view+json": {
       "model_id": "a298794937e947f8aca91845573b9158",
       "version_major": 2,
       "version_minor": 0
      },
      "text/plain": [
       "HBox(children=(IntProgress(value=0, max=107), HTML(value='')))"
      ]
     },
     "metadata": {},
     "output_type": "display_data"
    },
    {
     "name": "stdout",
     "output_type": "stream",
     "text": [
      "data/reddit_threads/Scotland_valid.txt\n"
     ]
    },
    {
     "data": {
      "application/vnd.jupyter.widget-view+json": {
       "model_id": "e4cd2b3f7a944e028a46d7dceaf9bfc0",
       "version_major": 2,
       "version_minor": 0
      },
      "text/plain": [
       "HBox(children=(IntProgress(value=0, max=119), HTML(value='')))"
      ]
     },
     "metadata": {},
     "output_type": "display_data"
    },
    {
     "name": "stdout",
     "output_type": "stream",
     "text": [
      "data/reddit_threads/Scotland_test.txt\n"
     ]
    },
    {
     "data": {
      "application/vnd.jupyter.widget-view+json": {
       "model_id": "b877a75d16ff4481aa83a924b242bd9c",
       "version_major": 2,
       "version_minor": 0
      },
      "text/plain": [
       "HBox(children=(IntProgress(value=0, max=1054), HTML(value='')))"
      ]
     },
     "metadata": {},
     "output_type": "display_data"
    },
    {
     "name": "stdout",
     "output_type": "stream",
     "text": [
      "data/reddit_threads/copypasta_train.txt\n"
     ]
    },
    {
     "data": {
      "application/vnd.jupyter.widget-view+json": {
       "model_id": "16cb2d53c25c4afd87c0e4a078bab3e6",
       "version_major": 2,
       "version_minor": 0
      },
      "text/plain": [
       "HBox(children=(IntProgress(value=0, max=118), HTML(value='')))"
      ]
     },
     "metadata": {},
     "output_type": "display_data"
    },
    {
     "name": "stdout",
     "output_type": "stream",
     "text": [
      "data/reddit_threads/copypasta_valid.txt\n"
     ]
    },
    {
     "data": {
      "application/vnd.jupyter.widget-view+json": {
       "model_id": "825c5dd03e044898b42f6070d48545ef",
       "version_major": 2,
       "version_minor": 0
      },
      "text/plain": [
       "HBox(children=(IntProgress(value=0, max=131), HTML(value='')))"
      ]
     },
     "metadata": {},
     "output_type": "display_data"
    },
    {
     "name": "stdout",
     "output_type": "stream",
     "text": [
      "data/reddit_threads/copypasta_test.txt\n"
     ]
    },
    {
     "data": {
      "application/vnd.jupyter.widget-view+json": {
       "model_id": "1615057d022149849ff882cd6a77d169",
       "version_major": 2,
       "version_minor": 0
      },
      "text/plain": [
       "HBox(children=(IntProgress(value=0, max=1103), HTML(value='')))"
      ]
     },
     "metadata": {},
     "output_type": "display_data"
    },
    {
     "name": "stdout",
     "output_type": "stream",
     "text": [
      "data/reddit_threads/machinelearning_train.txt\n"
     ]
    },
    {
     "data": {
      "application/vnd.jupyter.widget-view+json": {
       "model_id": "542ce90fe52e474f8dd2d2bbe0f0dad7",
       "version_major": 2,
       "version_minor": 0
      },
      "text/plain": [
       "HBox(children=(IntProgress(value=0, max=123), HTML(value='')))"
      ]
     },
     "metadata": {},
     "output_type": "display_data"
    },
    {
     "name": "stdout",
     "output_type": "stream",
     "text": [
      "data/reddit_threads/machinelearning_valid.txt\n"
     ]
    },
    {
     "data": {
      "application/vnd.jupyter.widget-view+json": {
       "model_id": "eaa6e9cc1d0c4fc8801736abc284ef66",
       "version_major": 2,
       "version_minor": 0
      },
      "text/plain": [
       "HBox(children=(IntProgress(value=0, max=137), HTML(value='')))"
      ]
     },
     "metadata": {},
     "output_type": "display_data"
    },
    {
     "name": "stdout",
     "output_type": "stream",
     "text": [
      "data/reddit_threads/machinelearning_test.txt\n"
     ]
    },
    {
     "data": {
      "application/vnd.jupyter.widget-view+json": {
       "model_id": "63e40bf2bd204ada8e322694a0a94783",
       "version_major": 2,
       "version_minor": 0
      },
      "text/plain": [
       "HBox(children=(IntProgress(value=0, max=410), HTML(value='')))"
      ]
     },
     "metadata": {},
     "output_type": "display_data"
    },
    {
     "name": "stdout",
     "output_type": "stream",
     "text": [
      "data/reddit_threads/dreams_train.txt\n"
     ]
    },
    {
     "data": {
      "application/vnd.jupyter.widget-view+json": {
       "model_id": "bdb1474de1054aed95f6711039b712eb",
       "version_major": 2,
       "version_minor": 0
      },
      "text/plain": [
       "HBox(children=(IntProgress(value=0, max=46), HTML(value='')))"
      ]
     },
     "metadata": {},
     "output_type": "display_data"
    },
    {
     "name": "stdout",
     "output_type": "stream",
     "text": [
      "data/reddit_threads/dreams_valid.txt\n"
     ]
    },
    {
     "data": {
      "application/vnd.jupyter.widget-view+json": {
       "model_id": "f102db4574f2493d85fe12bf92d7d9e3",
       "version_major": 2,
       "version_minor": 0
      },
      "text/plain": [
       "HBox(children=(IntProgress(value=0, max=51), HTML(value='')))"
      ]
     },
     "metadata": {},
     "output_type": "display_data"
    },
    {
     "name": "stdout",
     "output_type": "stream",
     "text": [
      "data/reddit_threads/dreams_test.txt\n"
     ]
    },
    {
     "data": {
      "application/vnd.jupyter.widget-view+json": {
       "model_id": "9ba182f0c29d4783b4fb9e9ef4e9ce53",
       "version_major": 2,
       "version_minor": 0
      },
      "text/plain": [
       "HBox(children=(IntProgress(value=0, max=1475), HTML(value='')))"
      ]
     },
     "metadata": {},
     "output_type": "display_data"
    },
    {
     "name": "stdout",
     "output_type": "stream",
     "text": [
      "data/reddit_threads/singularity_train.txt\n"
     ]
    },
    {
     "data": {
      "application/vnd.jupyter.widget-view+json": {
       "model_id": "69e15885845e4fa2ac93394e8555da5e",
       "version_major": 2,
       "version_minor": 0
      },
      "text/plain": [
       "HBox(children=(IntProgress(value=0, max=164), HTML(value='')))"
      ]
     },
     "metadata": {},
     "output_type": "display_data"
    },
    {
     "name": "stdout",
     "output_type": "stream",
     "text": [
      "data/reddit_threads/singularity_valid.txt\n"
     ]
    },
    {
     "data": {
      "application/vnd.jupyter.widget-view+json": {
       "model_id": "f2bf3f240ff046c2bfdf2fecfdf3340a",
       "version_major": 2,
       "version_minor": 0
      },
      "text/plain": [
       "HBox(children=(IntProgress(value=0, max=183), HTML(value='')))"
      ]
     },
     "metadata": {},
     "output_type": "display_data"
    },
    {
     "name": "stdout",
     "output_type": "stream",
     "text": [
      "data/reddit_threads/singularity_test.txt\n"
     ]
    },
    {
     "data": {
      "application/vnd.jupyter.widget-view+json": {
       "model_id": "edbe4a72f5a940d79acec724663f9a2b",
       "version_major": 2,
       "version_minor": 0
      },
      "text/plain": [
       "HBox(children=(IntProgress(value=0, max=1206), HTML(value='')))"
      ]
     },
     "metadata": {},
     "output_type": "display_data"
    },
    {
     "name": "stdout",
     "output_type": "stream",
     "text": [
      "data/reddit_threads/programmingcirclejerk_train.txt\n"
     ]
    },
    {
     "data": {
      "application/vnd.jupyter.widget-view+json": {
       "model_id": "9a9a068234d84fbca1c1845f932fcfc4",
       "version_major": 2,
       "version_minor": 0
      },
      "text/plain": [
       "HBox(children=(IntProgress(value=0, max=134), HTML(value='')))"
      ]
     },
     "metadata": {},
     "output_type": "display_data"
    },
    {
     "name": "stdout",
     "output_type": "stream",
     "text": [
      "data/reddit_threads/programmingcirclejerk_valid.txt\n"
     ]
    },
    {
     "data": {
      "application/vnd.jupyter.widget-view+json": {
       "model_id": "4f5f7163ab4549b0af46bc59b7439489",
       "version_major": 2,
       "version_minor": 0
      },
      "text/plain": [
       "HBox(children=(IntProgress(value=0, max=149), HTML(value='')))"
      ]
     },
     "metadata": {},
     "output_type": "display_data"
    },
    {
     "name": "stdout",
     "output_type": "stream",
     "text": [
      "data/reddit_threads/programmingcirclejerk_test.txt\n"
     ]
    },
    {
     "data": {
      "application/vnd.jupyter.widget-view+json": {
       "model_id": "b17f9ac860a84e02a92e3e332c0f4188",
       "version_major": 2,
       "version_minor": 0
      },
      "text/plain": [
       "HBox(children=(IntProgress(value=0, max=1194), HTML(value='')))"
      ]
     },
     "metadata": {},
     "output_type": "display_data"
    },
    {
     "name": "stdout",
     "output_type": "stream",
     "text": [
      "pop from empty list\n",
      "pop from empty list\n"
     ]
    },
    {
     "ename": "KeyboardInterrupt",
     "evalue": "",
     "output_type": "error",
     "traceback": [
      "\u001b[0;31m---------------------------------------------------------------------------\u001b[0m",
      "\u001b[0;31mKeyboardInterrupt\u001b[0m                         Traceback (most recent call last)",
      "\u001b[0;32m<ipython-input-137-698e3a42cbed>\u001b[0m in \u001b[0;36m<module>\u001b[0;34m\u001b[0m\n\u001b[1;32m     24\u001b[0m                 \u001b[0;31m# Sort comments by their parent id\u001b[0m\u001b[0;34m\u001b[0m\u001b[0;34m\u001b[0m\u001b[0;34m\u001b[0m\u001b[0m\n\u001b[1;32m     25\u001b[0m                 \u001b[0;32mtry\u001b[0m\u001b[0;34m:\u001b[0m\u001b[0;34m\u001b[0m\u001b[0;34m\u001b[0m\u001b[0m\n\u001b[0;32m---> 26\u001b[0;31m                     \u001b[0mqueue\u001b[0m \u001b[0;34m=\u001b[0m \u001b[0mcomments_to_queue\u001b[0m\u001b[0;34m(\u001b[0m\u001b[0mcomment_dict\u001b[0m\u001b[0;34m,\u001b[0m \u001b[0msubmission\u001b[0m\u001b[0;34m)\u001b[0m\u001b[0;34m\u001b[0m\u001b[0;34m\u001b[0m\u001b[0m\n\u001b[0m\u001b[1;32m     27\u001b[0m                 \u001b[0;32mexcept\u001b[0m \u001b[0mIndexError\u001b[0m \u001b[0;32mas\u001b[0m \u001b[0me\u001b[0m\u001b[0;34m:\u001b[0m\u001b[0;34m\u001b[0m\u001b[0;34m\u001b[0m\u001b[0m\n\u001b[1;32m     28\u001b[0m                     \u001b[0mprint\u001b[0m\u001b[0;34m(\u001b[0m\u001b[0me\u001b[0m\u001b[0;34m)\u001b[0m\u001b[0;34m\u001b[0m\u001b[0;34m\u001b[0m\u001b[0m\n",
      "\u001b[0;32m<ipython-input-134-62497894b859>\u001b[0m in \u001b[0;36mcomments_to_queue\u001b[0;34m(comment_dict, submission)\u001b[0m\n\u001b[1;32m     18\u001b[0m         \u001b[0;32mfor\u001b[0m \u001b[0mqueue_position\u001b[0m \u001b[0;32min\u001b[0m \u001b[0mrange\u001b[0m\u001b[0;34m(\u001b[0m\u001b[0mlen\u001b[0m\u001b[0;34m(\u001b[0m\u001b[0mqueue\u001b[0m\u001b[0;34m)\u001b[0m \u001b[0;34m-\u001b[0m \u001b[0;36m1\u001b[0m\u001b[0;34m,\u001b[0m \u001b[0;34m-\u001b[0m\u001b[0;36m1\u001b[0m\u001b[0;34m,\u001b[0m \u001b[0;34m-\u001b[0m\u001b[0;36m1\u001b[0m\u001b[0;34m)\u001b[0m\u001b[0;34m:\u001b[0m\u001b[0;34m\u001b[0m\u001b[0;34m\u001b[0m\u001b[0m\n\u001b[1;32m     19\u001b[0m \u001b[0;31m#             print('queue_position', queue_position)\u001b[0m\u001b[0;34m\u001b[0m\u001b[0;34m\u001b[0m\u001b[0;34m\u001b[0m\u001b[0m\n\u001b[0;32m---> 20\u001b[0;31m             \u001b[0mcurrent_id\u001b[0m \u001b[0;34m=\u001b[0m \u001b[0mget_id_for_comments\u001b[0m\u001b[0;34m(\u001b[0m\u001b[0mqueue\u001b[0m\u001b[0;34m[\u001b[0m\u001b[0mqueue_position\u001b[0m\u001b[0;34m]\u001b[0m\u001b[0;34m)\u001b[0m\u001b[0;34m\u001b[0m\u001b[0;34m\u001b[0m\u001b[0m\n\u001b[0m\u001b[1;32m     21\u001b[0m             \u001b[0mfound\u001b[0m \u001b[0;34m=\u001b[0m \u001b[0mcomment_dict\u001b[0m\u001b[0;34m[\u001b[0m\u001b[0mcurrent_id\u001b[0m\u001b[0;34m]\u001b[0m\u001b[0;34m\u001b[0m\u001b[0;34m\u001b[0m\u001b[0m\n\u001b[1;32m     22\u001b[0m             \u001b[0;32mif\u001b[0m \u001b[0mlen\u001b[0m\u001b[0;34m(\u001b[0m\u001b[0mfound\u001b[0m\u001b[0;34m)\u001b[0m\u001b[0;34m:\u001b[0m\u001b[0;34m\u001b[0m\u001b[0;34m\u001b[0m\u001b[0m\n",
      "\u001b[0;32m<ipython-input-7-a102f838eeca>\u001b[0m in \u001b[0;36mget_id_for_comments\u001b[0;34m(thing)\u001b[0m\n\u001b[1;32m      1\u001b[0m \u001b[0;32mdef\u001b[0m \u001b[0mget_id_for_comments\u001b[0m\u001b[0;34m(\u001b[0m\u001b[0mthing\u001b[0m\u001b[0;34m)\u001b[0m\u001b[0;34m:\u001b[0m\u001b[0;34m\u001b[0m\u001b[0;34m\u001b[0m\u001b[0m\n\u001b[0;32m----> 2\u001b[0;31m     \u001b[0;32mif\u001b[0m \u001b[0mthing\u001b[0m\u001b[0;34m[\u001b[0m\u001b[0;34m\"type\"\u001b[0m\u001b[0;34m]\u001b[0m \u001b[0;34m==\u001b[0m \u001b[0;34m\"submission\"\u001b[0m\u001b[0;34m:\u001b[0m\u001b[0;34m\u001b[0m\u001b[0;34m\u001b[0m\u001b[0m\n\u001b[0m\u001b[1;32m      3\u001b[0m         \u001b[0;32mreturn\u001b[0m \u001b[0;34m\"t3_\"\u001b[0m \u001b[0;34m+\u001b[0m \u001b[0mthing\u001b[0m\u001b[0;34m[\u001b[0m\u001b[0;34m\"id\"\u001b[0m\u001b[0;34m]\u001b[0m\u001b[0;34m\u001b[0m\u001b[0;34m\u001b[0m\u001b[0m\n\u001b[1;32m      4\u001b[0m     \u001b[0;32melse\u001b[0m\u001b[0;34m:\u001b[0m\u001b[0;34m\u001b[0m\u001b[0;34m\u001b[0m\u001b[0m\n\u001b[1;32m      5\u001b[0m         \u001b[0;32mreturn\u001b[0m \u001b[0;34m\"t1_\"\u001b[0m \u001b[0;34m+\u001b[0m \u001b[0mthing\u001b[0m\u001b[0;34m[\u001b[0m\u001b[0;34m\"id\"\u001b[0m\u001b[0;34m]\u001b[0m\u001b[0;34m\u001b[0m\u001b[0;34m\u001b[0m\u001b[0m\n",
      "\u001b[0;31mKeyboardInterrupt\u001b[0m: "
     ]
    }
   ],
   "source": [
    "import random\n",
    "from sklearn.model_selection import train_test_split\n",
    "data_dir = Path('./data/reddit_threads/')\n",
    "subreddits = [sub.name for sub in data_dir.glob('*/')]\n",
    "for sub in subreddits:\n",
    "    pkl_files = sorted(data_dir.glob(sub+'/*.pickle'))\n",
    "    if len(pkl_files)>200:\n",
    "        # split\n",
    "        train_files, test_files = train_test_split(\n",
    "            pkl_files, test_size=0.1, random_state=42\n",
    "        )\n",
    "        train_files, valid_files = train_test_split(\n",
    "            train_files, test_size=0.1, random_state=42\n",
    "        )\n",
    "        splits = dict(train=train_files, valid=valid_files, test=test_files)\n",
    "\n",
    "        for split, files in splits.items():\n",
    "            text = ''\n",
    "            for pkl_file in tqdm(files):\n",
    "                data = pickle.load(pkl_file.open('rb'))    \n",
    "                comment_dict = data['comment_dict']\n",
    "                submission = data['submission']\n",
    "\n",
    "                # Sort comments by their parent id\n",
    "                try:\n",
    "                    queue = comments_to_queue(comment_dict, submission)\n",
    "                except IndexError as e:\n",
    "                    print(e)\n",
    "                    continue\n",
    "                    \n",
    "\n",
    "                # Format\n",
    "                submission_id = queue[0]['id']\n",
    "                for thing in queue:\n",
    "                    text += format_thing(thing, submission_id)\n",
    "            out_file = data_dir.joinpath(f'{sub}_{split}.txt')\n",
    "            out_file.open('w').write(text)\n",
    "            print(out_file)"
   ]
  },
  {
   "cell_type": "code",
   "execution_count": 139,
   "metadata": {
    "ExecuteTime": {
     "end_time": "2019-07-15T07:47:14.096437Z",
     "start_time": "2019-07-15T07:47:12.697043Z"
    }
   },
   "outputs": [
    {
     "name": "stdout",
     "output_type": "stream",
     "text": [
      "data/reddit_threads/train.txt\n",
      "data/reddit_threads/valid.txt\n",
      "data/reddit_threads/test.txt\n"
     ]
    }
   ],
   "source": [
    "# Make one that is all\n",
    "for split in splits.keys():\n",
    "    inputs = data_dir.glob(f'*_{split}.txt')\n",
    "    out_file = data_dir.joinpath(f'{split}.txt')\n",
    "    text = ''\n",
    "    for inp in inputs:\n",
    "        text += inp.open('r').read()\n",
    "    out_file.open('w').write(text)\n",
    "    print(out_file)"
   ]
  },
  {
   "cell_type": "code",
   "execution_count": null,
   "metadata": {},
   "outputs": [],
   "source": []
  },
  {
   "cell_type": "code",
   "execution_count": null,
   "metadata": {},
   "outputs": [],
   "source": []
  }
 ],
 "metadata": {
  "kernelspec": {
   "display_name": "jup3.7.2",
   "language": "python",
   "name": "jup3.7.2"
  },
  "language_info": {
   "codemirror_mode": {
    "name": "ipython",
    "version": 3
   },
   "file_extension": ".py",
   "mimetype": "text/x-python",
   "name": "python",
   "nbconvert_exporter": "python",
   "pygments_lexer": "ipython3",
   "version": "3.7.2"
  },
  "toc": {
   "base_numbering": 1,
   "nav_menu": {},
   "number_sections": true,
   "sideBar": true,
   "skip_h1_title": false,
   "title_cell": "Table of Contents",
   "title_sidebar": "Contents",
   "toc_cell": false,
   "toc_position": {
    "height": "calc(100% - 180px)",
    "left": "10px",
    "top": "150px",
    "width": "384px"
   },
   "toc_section_display": true,
   "toc_window_display": true
  }
 },
 "nbformat": 4,
 "nbformat_minor": 4
}
